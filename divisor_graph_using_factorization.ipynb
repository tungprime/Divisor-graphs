{
 "cells": [
  {
   "cell_type": "code",
   "execution_count": 1,
   "metadata": {
    "collapsed": false,
    "jupyter": {
     "outputs_hidden": false
    }
   },
   "outputs": [],
   "source": [
    "import networkx as nx\n",
    "import matplotlib.pyplot as plt\n",
    "from collections import Counter\n",
    "from networkx.algorithms import bipartite\n",
    "from numpy import linalg as LA\n",
    "from numpy.linalg import matrix_rank\n",
    "import numpy as np\n",
    "import json"
   ]
  },
  {
   "cell_type": "code",
   "execution_count": 15,
   "metadata": {
    "collapsed": false,
    "jupyter": {
     "outputs_hidden": false
    }
   },
   "outputs": [],
   "source": [
    "def divisor_graph(n):\n",
    "    divisors = [item for item in range(1,n+1) if n % item ==0]\n",
    "    g=nx.empty_graph(divisors)\n",
    "    for i in divisors:\n",
    "        for j in divisors:\n",
    "            if i !=j and (i %j ==0 or j % i ==0):\n",
    "                g.add_edge(i,j)\n",
    "    return g  \n",
    "\n",
    "def number_of_divisors(n):\n",
    "    divisors = [item for item in range(1,n+1) if n % item ==0]\n",
    "    return len(divisors)\n",
    "    \n",
    "\n",
    "def reduced_divisor_graph(n):\n",
    "    divisors = [item for item in range(2,n) if n % item ==0]\n",
    "    g=nx.empty_graph(divisors)\n",
    "    for i in divisors:\n",
    "        for j in divisors:\n",
    "            if i !=j and (i %j ==0 or j % i ==0):\n",
    "                g.add_edge(i,j)\n",
    "    return g  \n",
    "\n",
    "\n",
    "def induced_graph(g,v):\n",
    "    n = len(v)\n",
    "    induced_g=nx.empty_graph(n)\n",
    "    for i in range(n):\n",
    "        for j in range(n):\n",
    "            if v[j] in g.neighbors(v[i]):\n",
    "                induced_g.add_edge(i,j)\n",
    "    return induced_g \n",
    "\n",
    "def factorization_type(n):\n",
    "    result = []\n",
    "    for item in factor(n):\n",
    "        result.append(item[1])\n",
    "    result.sort()    \n",
    "    return tuple(result)\n",
    "\n",
    "def rel_factorization_type(n,d):\n",
    "    factors = factor(d)\n",
    "    prime_factor = {item[0]:item[1] for item in factors}\n",
    "    result = []\n",
    "    factor_n = sorted(factor(n), key = lambda x: x[1])\n",
    "    for item in factor_n:\n",
    "        if item[0] in prime_factor:\n",
    "            result.append(prime_factor[item[0]])\n",
    "        else:\n",
    "            result.append(0) \n",
    "    return tuple(result)\n",
    "\n",
    "def char_poly(g):\n",
    "    adj_matrix = nx.adjacency_matrix(g).todense()\n",
    "    matrix_size = g.number_of_nodes()\n",
    "    matrix = adj_matrix\n",
    "    f = MatrixSpace(IntegerRing(),matrix_size)(matrix).charpoly()\n",
    "    return f.factor() \n",
    "\n",
    "def raw_char_poly(g):\n",
    "    adj_matrix = nx.adjacency_matrix(g).todense()\n",
    "    matrix_size = g.number_of_nodes()\n",
    "    matrix = adj_matrix\n",
    "    f = MatrixSpace(IntegerRing(),matrix_size)(matrix).charpoly()\n",
    "    return f"
   ]
  },
  {
   "cell_type": "markdown",
   "metadata": {},
   "source": [
    "# Test the code with small values of $n$ "
   ]
  },
  {
   "cell_type": "code",
   "execution_count": 16,
   "metadata": {},
   "outputs": [
    {
     "data": {
      "text/plain": [
       "array([[0, 1, 1, 1],\n",
       "       [1, 0, 0, 1],\n",
       "       [1, 0, 0, 1],\n",
       "       [1, 1, 1, 0]])"
      ]
     },
     "execution_count": 16,
     "metadata": {},
     "output_type": "execute_result"
    },
    {
     "data": {
      "image/png": "[encoded data removed]",
      "text/plain": [
       "<Figure size 500x500 with 1 Axes>"
      ]
     },
     "metadata": {},
     "output_type": "display_data"
    }
   ],
   "source": [
    "n=6\n",
    "g = divisor_graph(n)\n",
    "fig = plt.gcf()\n",
    "fig.set_size_inches(5,5)\n",
    "pos = nx.circular_layout(g)\n",
    "nx.draw(g, pos=pos,\n",
    "       with_labels = True,\n",
    "       #node_size = 600,\n",
    "       #scale = 1,\n",
    "       node_color = '#6495ED')\n",
    "plt.savefig(\"divisor_graph_6.png\", dpi =300)\n",
    "matrix = nx.adjacency_matrix(g)\n",
    "matrix.todense()"
   ]
  },
  {
   "cell_type": "code",
   "execution_count": 17,
   "metadata": {
    "collapsed": false,
    "jupyter": {
     "outputs_hidden": false
    }
   },
   "outputs": [
    {
     "data": {
      "image/png": "[encoded data removed]",
      "text/plain": [
       "<Figure size 500x500 with 1 Axes>"
      ]
     },
     "metadata": {},
     "output_type": "display_data"
    }
   ],
   "source": [
    "n=8\n",
    "g = divisor_graph(n)\n",
    "fig = plt.gcf()\n",
    "fig.set_size_inches(5,5)\n",
    "pos = nx.circular_layout(g)\n",
    "nx.draw(g, pos=pos,\n",
    "       with_labels = True,\n",
    "       #node_size = 600,\n",
    "       #scale = 1,\n",
    "       node_color = '#6495ED')"
   ]
  },
  {
   "cell_type": "markdown",
   "metadata": {},
   "source": [
    "# Test for the characteristic polynomials of $D_n$"
   ]
  },
  {
   "cell_type": "code",
   "execution_count": 11,
   "metadata": {},
   "outputs": [
    {
     "data": {
      "text/plain": [
       "x * (x + 1) * (x^2 - x - 4)"
      ]
     },
     "execution_count": 11,
     "metadata": {},
     "output_type": "execute_result"
    }
   ],
   "source": [
    "n = 2*3 \n",
    "g = divisor_graph(n)\n",
    "f = char_poly(g)\n",
    "f"
   ]
  },
  {
   "cell_type": "code",
   "execution_count": 12,
   "metadata": {},
   "outputs": [
    {
     "data": {
      "text/plain": [
       "x^2 * (x + 3)^2 * (x + 1)^4 * (x^2 - 7*x - 16) * (x^2 - x - 4)^3"
      ]
     },
     "execution_count": 12,
     "metadata": {},
     "output_type": "execute_result"
    }
   ],
   "source": [
    "n = 2*3*5*7\n",
    "g = divisor_graph(n)\n",
    "f = char_poly(g)\n",
    "f"
   ]
  },
  {
   "cell_type": "code",
   "execution_count": 13,
   "metadata": {},
   "outputs": [
    {
     "data": {
      "text/plain": [
       "(x + 1) * (x^2 + x - 1) * (x^3 - 2*x^2 - 8*x - 3)"
      ]
     },
     "execution_count": 13,
     "metadata": {},
     "output_type": "execute_result"
    }
   ],
   "source": [
    "n = 2**2*3\n",
    "g = divisor_graph(n)\n",
    "f = char_poly(g)\n",
    "f"
   ]
  },
  {
   "cell_type": "code",
   "execution_count": 14,
   "metadata": {},
   "outputs": [
    {
     "data": {
      "text/plain": [
       "(x + 2)^2 * (x + 1)^3 * (x^2 + x - 1)^2 * (x^3 - 2*x^2 - 8*x - 3)^2 * (x^4 + 3*x^3 - 14*x^2 - 47*x - 33) * (x^5 - 8*x^4 - 59*x^3 - 7*x^2 + 184*x + 105)"
      ]
     },
     "execution_count": 14,
     "metadata": {},
     "output_type": "execute_result"
    }
   ],
   "source": [
    "n = 2**2*3*5*7\n",
    "g = divisor_graph(n)\n",
    "f = char_poly(g)\n",
    "f"
   ]
  },
  {
   "cell_type": "code",
   "execution_count": 22,
   "metadata": {},
   "outputs": [
    {
     "name": "stdout",
     "output_type": "stream",
     "text": [
      "True\n"
     ]
    }
   ],
   "source": [
    "n1 = 2**2 *3\n",
    "g1 = divisor_graph(n1)\n",
    "f1 = raw_char_poly(g1)\n",
    "n2= n1 * 5*7\n",
    "g2 = divisor_graph(n2)\n",
    "f2 = raw_char_poly(g2)\n",
    "print(f2 % f1**2  == 0)\n"
   ]
  },
  {
   "cell_type": "markdown",
   "metadata": {},
   "source": [
    "# Finding $n$ such that $f_{n}^2 | f_{npq}$"
   ]
  },
  {
   "cell_type": "code",
   "execution_count": 29,
   "metadata": {},
   "outputs": [
    {
     "data": {
      "text/plain": [
       "{(2,), (2, 2), (2, 3), (3,), (4,), (5,)}"
      ]
     },
     "execution_count": 29,
     "metadata": {},
     "output_type": "execute_result"
    }
   ],
   "source": [
    "d = set()\n",
    "result = set()\n",
    "for n in range(3,10000):\n",
    "    if gcd(n,6)==1:\n",
    "        fact_type = factorization_type(n)\n",
    "        if fact_type not in d:\n",
    "            d.add(fact_type)\n",
    "            g1 = divisor_graph(n)\n",
    "            f1 = raw_char_poly(g1)\n",
    "            g2 = divisor_graph(2*3*n)\n",
    "            f2 = raw_char_poly(g2)\n",
    "            if (f2 % f1**2 !=0):\n",
    "                result.add(fact_type)\n",
    "result\n",
    "            \n",
    "        \n",
    "        "
   ]
  },
  {
   "cell_type": "code",
   "execution_count": 30,
   "metadata": {},
   "outputs": [
    {
     "data": {
      "text/plain": [
       "{(2,), (2, 2), (2, 3), (2, 4), (3,), (4,), (5,), (6,)}"
      ]
     },
     "execution_count": 30,
     "metadata": {},
     "output_type": "execute_result"
    }
   ],
   "source": [
    "for n in range(10000, 40000):\n",
    "    if gcd(n,6)==1:\n",
    "        fact_type = factorization_type(n)\n",
    "        if fact_type not in d:\n",
    "            d.add(fact_type)\n",
    "            g1 = divisor_graph(n)\n",
    "            f1 = raw_char_poly(g1)\n",
    "            g2 = divisor_graph(2*3*n)\n",
    "            f2 = raw_char_poly(g2)\n",
    "            if (f2 % f1**2 !=0):\n",
    "                result.add(fact_type)\n",
    "result"
   ]
  },
  {
   "cell_type": "code",
   "execution_count": 31,
   "metadata": {},
   "outputs": [
    {
     "data": {
      "text/plain": [
       "{(2,), (2, 2), (2, 3), (2, 4), (3,), (3, 3), (4,), (5,), (6,), (7,)}"
      ]
     },
     "execution_count": 31,
     "metadata": {},
     "output_type": "execute_result"
    }
   ],
   "source": [
    "for n in range(40000, 80000):\n",
    "    if gcd(n,6)==1:\n",
    "        fact_type = factorization_type(n)\n",
    "        if fact_type not in d:\n",
    "            d.add(fact_type)\n",
    "            g1 = divisor_graph(n)\n",
    "            f1 = raw_char_poly(g1)\n",
    "            g2 = divisor_graph(2*3*n)\n",
    "            f2 = raw_char_poly(g2)\n",
    "            if (f2 % f1**2 !=0):\n",
    "                result.add(fact_type)\n",
    "result"
   ]
  },
  {
   "cell_type": "code",
   "execution_count": 85,
   "metadata": {},
   "outputs": [
    {
     "name": "stdout",
     "output_type": "stream",
     "text": [
      "True\n"
     ]
    }
   ],
   "source": [
    "n1 = 2*3\n",
    "g1 = divisor_graph(n1)\n",
    "f1 = raw_char_poly(g1)\n",
    "n2= (n1)**2 * 5**2 * 7 * 11\n",
    "g2 = divisor_graph(n2)\n",
    "f2 = raw_char_poly(g2)\n",
    "print(f2 % f1  == 0)\n"
   ]
  },
  {
   "cell_type": "code",
   "execution_count": 76,
   "metadata": {
    "scrolled": true
   },
   "outputs": [
    {
     "data": {
      "text/plain": [
       "{(1, 1), (1, 1, 1, 1), (1, 1, 1, 1, 1, 1), (2, 2, 2, 1, 1)}"
      ]
     },
     "execution_count": 76,
     "metadata": {},
     "output_type": "execute_result"
    }
   ],
   "source": [
    "n1 = 2*3\n",
    "seen_fact_type = set()\n",
    "multiple = set()\n",
    "g1 = divisor_graph(n1)\n",
    "f1 = raw_char_poly(g1)\n",
    "for n in range(3,80000):\n",
    "    if n % 6==0:\n",
    "        fact_type = factorization_type(n)\n",
    "        if fact_type not in seen_fact_type:\n",
    "            seen_fact_type.add(fact_type)\n",
    "            g = divisor_graph(n)\n",
    "            f = raw_char_poly(g)\n",
    "            if f % f1 == 0:\n",
    "                power = tuple(item[1] for item in factor(n))\n",
    "                multiple.add(power)\n",
    "multiple"
   ]
  },
  {
   "cell_type": "code",
   "execution_count": 80,
   "metadata": {},
   "outputs": [
    {
     "data": {
      "text/plain": [
       "{(1, 1), (1, 1, 1, 1), (1, 1, 1, 1, 1, 1), (2, 2, 2, 1, 1)}"
      ]
     },
     "execution_count": 80,
     "metadata": {},
     "output_type": "execute_result"
    }
   ],
   "source": [
    "for n in range(400000, 800000):\n",
    "    if n % 6==0:\n",
    "        fact_type = factorization_type(n)\n",
    "        if fact_type not in seen_fact_type:\n",
    "            seen_fact_type.add(fact_type)\n",
    "            g = divisor_graph(n)\n",
    "            f = raw_char_poly(g)\n",
    "            if f % f1 == 0:\n",
    "                power = tuple(item[1] for item in factor(n))\n",
    "                multiple.add(power)\n",
    "multiple"
   ]
  },
  {
   "cell_type": "code",
   "execution_count": 98,
   "metadata": {},
   "outputs": [
    {
     "data": {
      "text/plain": [
       "{(1, 1), (1, 1, 1, 1), (1, 1, 1, 1, 1, 1), (2, 2, 2, 1, 1)}"
      ]
     },
     "execution_count": 98,
     "metadata": {},
     "output_type": "execute_result"
    }
   ],
   "source": [
    "for n in range(150000,200000):\n",
    "    if n % 6==0:\n",
    "        fact_type = factorization_type(n)\n",
    "        if fact_type not in seen_fact_type:\n",
    "            seen_fact_type.add(fact_type)\n",
    "            g = divisor_graph(n)\n",
    "            f = raw_char_poly(g)\n",
    "            if f % f1 == 0:\n",
    "                power = tuple(item[1] for item in factor(n))\n",
    "                multiple.add(power)\n",
    "multiple"
   ]
  }
 ],
 "metadata": {
  "kernelspec": {
   "display_name": "SageMath 10.4",
   "language": "sage",
   "name": "sagemath-10.4"
  },
  "language_info": {
   "codemirror_mode": {
    "name": "ipython",
    "version": 3
   },
   "file_extension": ".py",
   "mimetype": "text/x-python",
   "name": "python",
   "nbconvert_exporter": "python",
   "pygments_lexer": "ipython3",
   "version": "3.12.4"
  }
 },
 "nbformat": 4,
 "nbformat_minor": 4
}
